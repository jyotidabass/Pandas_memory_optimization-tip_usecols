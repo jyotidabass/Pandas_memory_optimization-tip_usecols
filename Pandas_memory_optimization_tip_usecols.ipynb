{
  "nbformat": 4,
  "nbformat_minor": 0,
  "metadata": {
    "colab": {
      "name": "Pandas_memory_optimization tip_usecols.ipynb",
      "provenance": [],
      "authorship_tag": "ABX9TyPbCk+Ti2bwPjZoRwIfDv2+",
      "include_colab_link": true
    },
    "kernelspec": {
      "name": "python3",
      "display_name": "Python 3"
    },
    "language_info": {
      "name": "python"
    }
  },
  "cells": [
    {
      "cell_type": "markdown",
      "metadata": {
        "id": "view-in-github",
        "colab_type": "text"
      },
      "source": [
        "<a href=\"https://colab.research.google.com/github/jyotidabass/Pandas_memory_optimization-tip_usecols/blob/main/Pandas_memory_optimization_tip_usecols.ipynb\" target=\"_parent\"><img src=\"https://colab.research.google.com/assets/colab-badge.svg\" alt=\"Open In Colab\"/></a>"
      ]
    },
    {
      "cell_type": "code",
      "execution_count": 1,
      "metadata": {
        "colab": {
          "base_uri": "https://localhost:8080/"
        },
        "id": "YywOMgOizPJo",
        "outputId": "db63c65d-dcbc-4fec-fc4e-fbc30a643a18"
      },
      "outputs": [
        {
          "output_type": "stream",
          "name": "stdout",
          "text": [
            "<class 'pandas.core.frame.DataFrame'>\n",
            "RangeIndex: 101 entries, 0 to 100\n",
            "Columns: 4 entries, Food_name to Calorie\n",
            "dtypes: int64(2), object(2)\n",
            "memory usage: 14.1 KB\n"
          ]
        }
      ],
      "source": [
        "import pandas as pd\n",
        "df=pd.read_csv(\"/content/food.csv\")\n",
        "df.info(verbose=False, memory_usage=\"deep\")"
      ]
    },
    {
      "cell_type": "code",
      "source": [
        "df=df[[\"Food_name\", \"Calorie\"]]\n",
        "df.info(verbose=False, memory_usage=\"deep\")"
      ],
      "metadata": {
        "colab": {
          "base_uri": "https://localhost:8080/"
        },
        "id": "FilZXQaFz2Qt",
        "outputId": "7db18b31-be26-4958-d917-805df479fbb6"
      },
      "execution_count": 3,
      "outputs": [
        {
          "output_type": "stream",
          "name": "stdout",
          "text": [
            "<class 'pandas.core.frame.DataFrame'>\n",
            "RangeIndex: 101 entries, 0 to 100\n",
            "Columns: 2 entries, Food_name to Calorie\n",
            "dtypes: int64(1), object(1)\n",
            "memory usage: 7.6 KB\n"
          ]
        }
      ]
    },
    {
      "cell_type": "code",
      "source": [
        "df=pd.read_csv(\n",
        "    \"/content/food.csv\", usecols=[\"Food_name\", \"Calorie\"] )\n",
        "df.info(verbose=False, memory_usage=\"deep\")"
      ],
      "metadata": {
        "colab": {
          "base_uri": "https://localhost:8080/"
        },
        "id": "ZeLU9P1j0viW",
        "outputId": "627adc9f-78c9-4f6f-ab8d-da831f5161c2"
      },
      "execution_count": 8,
      "outputs": [
        {
          "output_type": "stream",
          "name": "stdout",
          "text": [
            "<class 'pandas.core.frame.DataFrame'>\n",
            "RangeIndex: 101 entries, 0 to 100\n",
            "Columns: 2 entries, Food_name to Calorie\n",
            "dtypes: int64(1), object(1)\n",
            "memory usage: 7.6 KB\n"
          ]
        }
      ]
    }
  ]
}